{
  "cells": [
    {
      "cell_type": "markdown",
      "metadata": {
        "id": "m9QWlN-lq0qw"
      },
      "source": [
        "# Практическая работа"
      ]
    },
    {
      "cell_type": "markdown",
      "metadata": {
        "id": "4Nb7eTxYWWUe"
      },
      "source": [
        "# Задача"
      ]
    },
    {
      "cell_type": "markdown",
      "metadata": {
        "id": "ug5TQChn6KiJ"
      },
      "source": [
        "Один из способов повысить эффективность взаимодействия банка с клиентами — отправлять предложение о новой услуге не всем клиентам, а только некоторым, которые выбираются по принципу наибольшей склонности к отклику на это предложение.\n",
        "\n",
        "Задача заключается в том, чтобы предложить алгоритм, который будет выдавать склонность клиента к положительному или отрицательному отклику на предложение банка. Предполагается, что, получив такие оценки для некоторого множества клиентов, банк обратится с предложением только к тем, от кого ожидается положительный отклик.\n"
      ]
    },
    {
      "cell_type": "markdown",
      "metadata": {
        "id": "5k52FwP156I6"
      },
      "source": [
        "Для решения этой задачи загрузите файлы из базы в Postgres.\n",
        "Эта БД хранит информацию о клиентах банка и их персональные данные, такие как пол, количество детей и другие.\n",
        "\n",
        "Описание таблиц с данными представлено ниже.\n"
      ]
    },
    {
      "cell_type": "markdown",
      "metadata": {
        "id": "3HYLpuwA6dAw"
      },
      "source": [
        "**D_work**\n",
        "\n",
        "Описание статусов относительно работы:\n",
        "- ID — идентификатор социального статуса клиента относительно работы;\n",
        "- COMMENT — расшифровка статуса.\n",
        "\n",
        "\n",
        "**D_pens**\n",
        "\n",
        "Описание статусов относительно пенсии:\n",
        "- ID — идентификатор социального статуса;\n",
        "- COMMENT — расшифровка статуса.\n",
        "\n",
        "\n",
        "**D_clients**\n",
        "\n",
        "Описание данных клиентов:\n",
        "- ID — идентификатор записи;\n",
        "- AGE\t— возраст клиента;\n",
        "- GENDER — пол клиента (1 — мужчина, 0 — женщина);\n",
        "- EDUCATION — образование;\n",
        "- MARITAL_STATUS — семейное положение;\n",
        "- CHILD_TOTAL\t— количество детей клиента;\n",
        "- DEPENDANTS — количество иждивенцев клиента;\n",
        "- SOCSTATUS_WORK_FL\t— социальный статус клиента относительно работы (1 — работает, 0 — не работает);\n",
        "- SOCSTATUS_PENS_FL\t— социальный статус клиента относительно пенсии (1 — пенсионер, 0 — не пенсионер);\n",
        "- REG_ADDRESS_PROVINCE — область регистрации клиента;\n",
        "- FACT_ADDRESS_PROVINCE — область фактического пребывания клиента;\n",
        "- POSTAL_ADDRESS_PROVINCE — почтовый адрес области;\n",
        "- FL_PRESENCE_FL — наличие в собственности квартиры (1 — есть, 0 — нет);\n",
        "- OWN_AUTO — количество автомобилей в собственности.\n",
        "\n",
        "\n",
        "**D_agreement**\n",
        "\n",
        "Таблица с зафиксированными откликами клиентов на предложения банка:\n",
        "- AGREEMENT_RK — уникальный идентификатор объекта в выборке;\n",
        "- ID_CLIENT — идентификатор клиента;\n",
        "- TARGET — целевая переменная: отклик на маркетинговую кампанию (1 — отклик был зарегистрирован, 0 — отклика не было).\n",
        "    \n",
        "    \n",
        "**D_job**\n",
        "\n",
        "Описание информации о работе клиентов:\n",
        "- GEN_INDUSTRY — отрасль работы клиента;\n",
        "- GEN_TITLE — должность;\n",
        "- JOB_DIR — направление деятельности внутри компании;\n",
        "- WORK_TIME — время работы на текущем месте (в месяцах);\n",
        "- ID_CLIENT — идентификатор клиента.\n",
        "\n",
        "\n",
        "**D_salary**\n",
        "\n",
        "Описание информации о заработной плате клиентов:\n",
        "- ID_CLIENT — идентификатор клиента;\n",
        "- FAMILY_INCOME — семейный доход (несколько категорий);\n",
        "- PERSONAL_INCOME — личный доход клиента (в рублях).\n",
        "\n",
        "\n",
        "**D_last_credit**\n",
        "\n",
        "Информация о последнем займе клиента:\n",
        "- ID_CLIENT — идентификатор клиента;\n",
        "- CREDIT — сумма последнего кредита клиента (в рублях);\n",
        "- TERM — срок кредита;\n",
        "- FST_PAYMENT — первоначальный взнос (в рублях).\n",
        "\n",
        "\n",
        "**D_loan**\n",
        "\n",
        "Информация о кредитной истории клиента:\n",
        "- ID_CLIENT — идентификатор клиента;\n",
        "- ID_LOAN — идентификатор кредита.\n",
        "\n",
        "**D_close_loan**\n",
        "\n",
        "Информация о статусах кредита (ссуд):\n",
        "- ID_LOAN — идентификатор кредита;\n",
        "- CLOSED_FL — текущий статус кредита (1 — закрыт, 0 — не закрыт)."
      ]
    },
    {
      "cell_type": "markdown",
      "metadata": {
        "id": "aSCbvJeMKegU"
      },
      "source": [
        "Ниже представлен минимальный список колонок, которые должны находиться в итоговом датасете после склейки и агрегации данных. По своему усмотрению вы можете добавить дополнительные к этим колонки."
      ]
    },
    {
      "cell_type": "markdown",
      "metadata": {
        "id": "xDZKZYCtmbwi"
      },
      "source": [
        "    - AGREEMENT_RK — уникальный идентификатор объекта в выборке;\n",
        "    - TARGET — целевая переменная: отклик на маркетинговую кампанию (1 — отклик был зарегистрирован, 0 — отклика не было);\n",
        "    - AGE — возраст клиента;\n",
        "    - SOCSTATUS_WORK_FL — социальный статус клиента относительно работы (1 — работает, 0 — не работает);\n",
        "    - SOCSTATUS_PENS_FL — социальный статус клиента относительно пенсии (1 — пенсионер, 0 — не пенсионер);\n",
        "    - GENDER — пол клиента (1 — мужчина, 0 — женщина);\n",
        "    - CHILD_TOTAL — количество детей клиента;\n",
        "    - DEPENDANTS — количество иждивенцев клиента;\n",
        "    - PERSONAL_INCOME — личный доход клиента (в рублях);\n",
        "    - LOAN_NUM_TOTAL — количество ссуд клиента;\n",
        "    - LOAN_NUM_CLOSED — количество погашенных ссуд клиента.\n"
      ]
    },
    {
      "cell_type": "markdown",
      "metadata": {
        "id": "EDpojLFeAw2Y"
      },
      "source": [
        "Будьте внимательны при сборке датасета: это реальные банковские данные, в которых могут наблюдаться дубли, некорректно заполненные значения или значения, противоречащие друг другу. Для получения качественной модели необходимо предварительно очистить датасет от такой информации."
      ]
    },
    {
      "cell_type": "markdown",
      "metadata": {
        "id": "GERgJvyYmQEZ"
      },
      "source": [
        "## Задание 1\n",
        "\n",
        "Соберите всю информацию о клиентах в одну таблицу, где одна строчка соответствует полной информации об одном клиенте."
      ]
    },
    {
      "cell_type": "code",
      "execution_count": 28,
      "metadata": {},
      "outputs": [],
      "source": [
        "import pandas as pd\n",
        "import numpy as np\n",
        "import matplotlib.pyplot as plt"
      ]
    },
    {
      "cell_type": "code",
      "execution_count": 29,
      "metadata": {},
      "outputs": [],
      "source": [
        "d_clients = pd.read_csv('data/D_clients.csv')\n",
        "d_close_loan = pd.read_csv('data/D_close_loan.csv')\n",
        "d_job = pd.read_csv('data/D_job.csv')\n",
        "d_loan = pd.read_csv('data/D_loan.csv')\n",
        "d_last_credit = pd.read_csv('data/D_last_credit.csv')\n",
        "d_pens = pd.read_csv('data/D_pens.csv')\n",
        "d_salary = pd.read_csv('data/D_salary.csv')\n",
        "d_target = pd.read_csv('data/D_target.csv')\n",
        "d_work = pd.read_csv('data/D_work.csv')"
      ]
    },
    {
      "cell_type": "code",
      "execution_count": 30,
      "metadata": {},
      "outputs": [
        {
          "name": "stdout",
          "output_type": "stream",
          "text": [
            "<class 'pandas.core.frame.DataFrame'>\n",
            "RangeIndex: 16000 entries, 0 to 15999\n",
            "Data columns (total 14 columns):\n",
            " #   Column                   Non-Null Count  Dtype \n",
            "---  ------                   --------------  ----- \n",
            " 0   ID                       16000 non-null  int64 \n",
            " 1   AGE                      16000 non-null  int64 \n",
            " 2   GENDER                   16000 non-null  int64 \n",
            " 3   EDUCATION                16000 non-null  object\n",
            " 4   MARITAL_STATUS           16000 non-null  object\n",
            " 5   CHILD_TOTAL              16000 non-null  int64 \n",
            " 6   DEPENDANTS               16000 non-null  int64 \n",
            " 7   SOCSTATUS_WORK_FL        16000 non-null  int64 \n",
            " 8   SOCSTATUS_PENS_FL        16000 non-null  int64 \n",
            " 9   REG_ADDRESS_PROVINCE     16000 non-null  object\n",
            " 10  FACT_ADDRESS_PROVINCE    16000 non-null  object\n",
            " 11  POSTAL_ADDRESS_PROVINCE  16000 non-null  object\n",
            " 12  FL_PRESENCE_FL           16000 non-null  int64 \n",
            " 13  OWN_AUTO                 16000 non-null  int64 \n",
            "dtypes: int64(9), object(5)\n",
            "memory usage: 1.7+ MB\n"
          ]
        }
      ],
      "source": [
        "d_clients.info()"
      ]
    },
    {
      "cell_type": "code",
      "execution_count": 31,
      "metadata": {},
      "outputs": [
        {
          "data": {
            "text/plain": [
              "16000"
            ]
          },
          "execution_count": 31,
          "metadata": {},
          "output_type": "execute_result"
        }
      ],
      "source": [
        "d_clients.ID.value_counts().sum()"
      ]
    },
    {
      "cell_type": "code",
      "execution_count": 32,
      "metadata": {},
      "outputs": [
        {
          "data": {
            "text/plain": [
              "GENDER\n",
              "1    10452\n",
              "0     5548\n",
              "Name: count, dtype: int64"
            ]
          },
          "execution_count": 32,
          "metadata": {},
          "output_type": "execute_result"
        }
      ],
      "source": [
        "d_clients.GENDER.value_counts()"
      ]
    },
    {
      "cell_type": "code",
      "execution_count": 33,
      "metadata": {},
      "outputs": [
        {
          "data": {
            "text/plain": [
              "AGE\n",
              "26    511\n",
              "27    508\n",
              "30    490\n",
              "31    488\n",
              "34    479\n",
              "33    478\n",
              "32    466\n",
              "35    462\n",
              "24    454\n",
              "25    453\n",
              "29    452\n",
              "38    451\n",
              "37    437\n",
              "39    433\n",
              "28    433\n",
              "40    422\n",
              "36    402\n",
              "23    398\n",
              "42    394\n",
              "45    382\n",
              "41    382\n",
              "44    377\n",
              "48    375\n",
              "52    372\n",
              "49    368\n",
              "51    365\n",
              "50    365\n",
              "56    357\n",
              "53    355\n",
              "43    350\n",
              "47    332\n",
              "46    328\n",
              "54    309\n",
              "22    307\n",
              "55    300\n",
              "58    298\n",
              "57    295\n",
              "59    227\n",
              "61    219\n",
              "60    217\n",
              "62    154\n",
              "63    146\n",
              "64    132\n",
              "65     45\n",
              "66     17\n",
              "21     14\n",
              "67      1\n",
              "Name: count, dtype: int64"
            ]
          },
          "execution_count": 33,
          "metadata": {},
          "output_type": "execute_result"
        }
      ],
      "source": [
        "d_clients.AGE.value_counts()"
      ]
    },
    {
      "cell_type": "markdown",
      "metadata": {},
      "source": [
        "Уникальных ID клиентов - 16000, полов - 2, возраст клиентов в диапазоне от 26 до 67, без выбросов. Будем использовать это как референс. А пока начнем собирать данные в одну таблицу. Для этого сначала сделаем merge таблиц d_loan и d_close_loan."
      ]
    },
    {
      "cell_type": "code",
      "execution_count": 34,
      "metadata": {},
      "outputs": [
        {
          "data": {
            "text/html": [
              "<div>\n",
              "<style scoped>\n",
              "    .dataframe tbody tr th:only-of-type {\n",
              "        vertical-align: middle;\n",
              "    }\n",
              "\n",
              "    .dataframe tbody tr th {\n",
              "        vertical-align: top;\n",
              "    }\n",
              "\n",
              "    .dataframe thead th {\n",
              "        text-align: right;\n",
              "    }\n",
              "</style>\n",
              "<table border=\"1\" class=\"dataframe\">\n",
              "  <thead>\n",
              "    <tr style=\"text-align: right;\">\n",
              "      <th></th>\n",
              "      <th>ID_LOAN</th>\n",
              "      <th>ID_CLIENT</th>\n",
              "    </tr>\n",
              "  </thead>\n",
              "  <tbody>\n",
              "    <tr>\n",
              "      <th>0</th>\n",
              "      <td>1753790658</td>\n",
              "      <td>106804370</td>\n",
              "    </tr>\n",
              "    <tr>\n",
              "      <th>1</th>\n",
              "      <td>1753790659</td>\n",
              "      <td>106804371</td>\n",
              "    </tr>\n",
              "    <tr>\n",
              "      <th>2</th>\n",
              "      <td>1753790660</td>\n",
              "      <td>106804372</td>\n",
              "    </tr>\n",
              "    <tr>\n",
              "      <th>3</th>\n",
              "      <td>1753790661</td>\n",
              "      <td>106804372</td>\n",
              "    </tr>\n",
              "    <tr>\n",
              "      <th>4</th>\n",
              "      <td>1753790662</td>\n",
              "      <td>106804373</td>\n",
              "    </tr>\n",
              "  </tbody>\n",
              "</table>\n",
              "</div>"
            ],
            "text/plain": [
              "      ID_LOAN  ID_CLIENT\n",
              "0  1753790658  106804370\n",
              "1  1753790659  106804371\n",
              "2  1753790660  106804372\n",
              "3  1753790661  106804372\n",
              "4  1753790662  106804373"
            ]
          },
          "execution_count": 34,
          "metadata": {},
          "output_type": "execute_result"
        }
      ],
      "source": [
        "d_loan.head()"
      ]
    },
    {
      "cell_type": "code",
      "execution_count": 35,
      "metadata": {},
      "outputs": [
        {
          "data": {
            "text/html": [
              "<div>\n",
              "<style scoped>\n",
              "    .dataframe tbody tr th:only-of-type {\n",
              "        vertical-align: middle;\n",
              "    }\n",
              "\n",
              "    .dataframe tbody tr th {\n",
              "        vertical-align: top;\n",
              "    }\n",
              "\n",
              "    .dataframe thead th {\n",
              "        text-align: right;\n",
              "    }\n",
              "</style>\n",
              "<table border=\"1\" class=\"dataframe\">\n",
              "  <thead>\n",
              "    <tr style=\"text-align: right;\">\n",
              "      <th></th>\n",
              "      <th>ID_LOAN</th>\n",
              "      <th>CLOSED_FL</th>\n",
              "    </tr>\n",
              "  </thead>\n",
              "  <tbody>\n",
              "    <tr>\n",
              "      <th>0</th>\n",
              "      <td>1753790658</td>\n",
              "      <td>1</td>\n",
              "    </tr>\n",
              "    <tr>\n",
              "      <th>1</th>\n",
              "      <td>1753790659</td>\n",
              "      <td>1</td>\n",
              "    </tr>\n",
              "    <tr>\n",
              "      <th>2</th>\n",
              "      <td>1753790660</td>\n",
              "      <td>1</td>\n",
              "    </tr>\n",
              "    <tr>\n",
              "      <th>3</th>\n",
              "      <td>1753790661</td>\n",
              "      <td>0</td>\n",
              "    </tr>\n",
              "    <tr>\n",
              "      <th>4</th>\n",
              "      <td>1753790662</td>\n",
              "      <td>1</td>\n",
              "    </tr>\n",
              "  </tbody>\n",
              "</table>\n",
              "</div>"
            ],
            "text/plain": [
              "      ID_LOAN  CLOSED_FL\n",
              "0  1753790658          1\n",
              "1  1753790659          1\n",
              "2  1753790660          1\n",
              "3  1753790661          0\n",
              "4  1753790662          1"
            ]
          },
          "execution_count": 35,
          "metadata": {},
          "output_type": "execute_result"
        }
      ],
      "source": [
        "d_close_loan.head()"
      ]
    },
    {
      "cell_type": "code",
      "execution_count": 36,
      "metadata": {},
      "outputs": [],
      "source": [
        "d_loan = pd.merge(d_loan, d_close_loan, on='ID_LOAN')"
      ]
    },
    {
      "cell_type": "code",
      "execution_count": 37,
      "metadata": {},
      "outputs": [
        {
          "data": {
            "text/html": [
              "<div>\n",
              "<style scoped>\n",
              "    .dataframe tbody tr th:only-of-type {\n",
              "        vertical-align: middle;\n",
              "    }\n",
              "\n",
              "    .dataframe tbody tr th {\n",
              "        vertical-align: top;\n",
              "    }\n",
              "\n",
              "    .dataframe thead th {\n",
              "        text-align: right;\n",
              "    }\n",
              "</style>\n",
              "<table border=\"1\" class=\"dataframe\">\n",
              "  <thead>\n",
              "    <tr style=\"text-align: right;\">\n",
              "      <th></th>\n",
              "      <th>ID_LOAN</th>\n",
              "      <th>ID_CLIENT</th>\n",
              "      <th>CLOSED_FL</th>\n",
              "    </tr>\n",
              "  </thead>\n",
              "  <tbody>\n",
              "    <tr>\n",
              "      <th>0</th>\n",
              "      <td>1753790658</td>\n",
              "      <td>106804370</td>\n",
              "      <td>1</td>\n",
              "    </tr>\n",
              "    <tr>\n",
              "      <th>1</th>\n",
              "      <td>1753790659</td>\n",
              "      <td>106804371</td>\n",
              "      <td>1</td>\n",
              "    </tr>\n",
              "    <tr>\n",
              "      <th>2</th>\n",
              "      <td>1753790660</td>\n",
              "      <td>106804372</td>\n",
              "      <td>1</td>\n",
              "    </tr>\n",
              "    <tr>\n",
              "      <th>3</th>\n",
              "      <td>1753790661</td>\n",
              "      <td>106804372</td>\n",
              "      <td>0</td>\n",
              "    </tr>\n",
              "    <tr>\n",
              "      <th>4</th>\n",
              "      <td>1753790662</td>\n",
              "      <td>106804373</td>\n",
              "      <td>1</td>\n",
              "    </tr>\n",
              "  </tbody>\n",
              "</table>\n",
              "</div>"
            ],
            "text/plain": [
              "      ID_LOAN  ID_CLIENT  CLOSED_FL\n",
              "0  1753790658  106804370          1\n",
              "1  1753790659  106804371          1\n",
              "2  1753790660  106804372          1\n",
              "3  1753790661  106804372          0\n",
              "4  1753790662  106804373          1"
            ]
          },
          "execution_count": 37,
          "metadata": {},
          "output_type": "execute_result"
        }
      ],
      "source": [
        "d_loan.head()"
      ]
    },
    {
      "cell_type": "markdown",
      "metadata": {},
      "source": [
        "Видим, что у одного клиента может быть сразу несколько кредитов в разном статусе. Согласно условию задания, нужно отдельно выделить общее кол-во ссуд и отдельно - кол-во погашенных. Приступим."
      ]
    },
    {
      "cell_type": "code",
      "execution_count": 38,
      "metadata": {},
      "outputs": [
        {
          "name": "stdout",
          "output_type": "stream",
          "text": [
            "<class 'pandas.core.frame.DataFrame'>\n",
            "RangeIndex: 21126 entries, 0 to 21125\n",
            "Data columns (total 5 columns):\n",
            " #   Column           Non-Null Count  Dtype\n",
            "---  ------           --------------  -----\n",
            " 0   ID_LOAN          21126 non-null  int64\n",
            " 1   ID_CLIENT        21126 non-null  int64\n",
            " 2   CLOSED_FL        21126 non-null  int64\n",
            " 3   LOAN_NUM_TOTAL   21126 non-null  int64\n",
            " 4   LOAN_NUM_CLOSED  21126 non-null  int64\n",
            "dtypes: int64(5)\n",
            "memory usage: 825.4 KB\n"
          ]
        }
      ],
      "source": [
        "d_loan['LOAN_NUM_TOTAL'] = d_loan.groupby('ID_CLIENT')['CLOSED_FL'].transform('size')\n",
        "d_loan['LOAN_NUM_CLOSED'] = d_loan.groupby('ID_CLIENT')['CLOSED_FL'].cumsum()\n",
        "d_loan.info()"
      ]
    },
    {
      "cell_type": "code",
      "execution_count": 39,
      "metadata": {},
      "outputs": [
        {
          "data": {
            "text/html": [
              "<div>\n",
              "<style scoped>\n",
              "    .dataframe tbody tr th:only-of-type {\n",
              "        vertical-align: middle;\n",
              "    }\n",
              "\n",
              "    .dataframe tbody tr th {\n",
              "        vertical-align: top;\n",
              "    }\n",
              "\n",
              "    .dataframe thead th {\n",
              "        text-align: right;\n",
              "    }\n",
              "</style>\n",
              "<table border=\"1\" class=\"dataframe\">\n",
              "  <thead>\n",
              "    <tr style=\"text-align: right;\">\n",
              "      <th></th>\n",
              "      <th>ID_LOAN</th>\n",
              "      <th>ID_CLIENT</th>\n",
              "      <th>CLOSED_FL</th>\n",
              "      <th>LOAN_NUM_TOTAL</th>\n",
              "      <th>LOAN_NUM_CLOSED</th>\n",
              "    </tr>\n",
              "  </thead>\n",
              "  <tbody>\n",
              "    <tr>\n",
              "      <th>0</th>\n",
              "      <td>1753790658</td>\n",
              "      <td>106804370</td>\n",
              "      <td>1</td>\n",
              "      <td>1</td>\n",
              "      <td>1</td>\n",
              "    </tr>\n",
              "    <tr>\n",
              "      <th>1</th>\n",
              "      <td>1753790659</td>\n",
              "      <td>106804371</td>\n",
              "      <td>1</td>\n",
              "      <td>1</td>\n",
              "      <td>1</td>\n",
              "    </tr>\n",
              "    <tr>\n",
              "      <th>2</th>\n",
              "      <td>1753790660</td>\n",
              "      <td>106804372</td>\n",
              "      <td>1</td>\n",
              "      <td>2</td>\n",
              "      <td>1</td>\n",
              "    </tr>\n",
              "    <tr>\n",
              "      <th>3</th>\n",
              "      <td>1753790661</td>\n",
              "      <td>106804372</td>\n",
              "      <td>0</td>\n",
              "      <td>2</td>\n",
              "      <td>1</td>\n",
              "    </tr>\n",
              "    <tr>\n",
              "      <th>4</th>\n",
              "      <td>1753790662</td>\n",
              "      <td>106804373</td>\n",
              "      <td>1</td>\n",
              "      <td>1</td>\n",
              "      <td>1</td>\n",
              "    </tr>\n",
              "  </tbody>\n",
              "</table>\n",
              "</div>"
            ],
            "text/plain": [
              "      ID_LOAN  ID_CLIENT  CLOSED_FL  LOAN_NUM_TOTAL  LOAN_NUM_CLOSED\n",
              "0  1753790658  106804370          1               1                1\n",
              "1  1753790659  106804371          1               1                1\n",
              "2  1753790660  106804372          1               2                1\n",
              "3  1753790661  106804372          0               2                1\n",
              "4  1753790662  106804373          1               1                1"
            ]
          },
          "execution_count": 39,
          "metadata": {},
          "output_type": "execute_result"
        }
      ],
      "source": [
        "d_loan.head()"
      ]
    },
    {
      "cell_type": "markdown",
      "metadata": {},
      "source": [
        "Дропнем ненужные уже столбцы CLOSED_FL и ID_LOAN, а заодно и дубликаты по айди клиента:"
      ]
    },
    {
      "cell_type": "code",
      "execution_count": 40,
      "metadata": {},
      "outputs": [],
      "source": [
        "d_loan = d_loan.drop(['CLOSED_FL', 'ID_LOAN'], axis=1).drop_duplicates(subset='ID_CLIENT', keep='first')\\\n",
        "    .reset_index(drop=True)"
      ]
    },
    {
      "cell_type": "code",
      "execution_count": 41,
      "metadata": {},
      "outputs": [
        {
          "data": {
            "text/html": [
              "<div>\n",
              "<style scoped>\n",
              "    .dataframe tbody tr th:only-of-type {\n",
              "        vertical-align: middle;\n",
              "    }\n",
              "\n",
              "    .dataframe tbody tr th {\n",
              "        vertical-align: top;\n",
              "    }\n",
              "\n",
              "    .dataframe thead th {\n",
              "        text-align: right;\n",
              "    }\n",
              "</style>\n",
              "<table border=\"1\" class=\"dataframe\">\n",
              "  <thead>\n",
              "    <tr style=\"text-align: right;\">\n",
              "      <th></th>\n",
              "      <th>ID_CLIENT</th>\n",
              "      <th>LOAN_NUM_TOTAL</th>\n",
              "      <th>LOAN_NUM_CLOSED</th>\n",
              "    </tr>\n",
              "  </thead>\n",
              "  <tbody>\n",
              "    <tr>\n",
              "      <th>0</th>\n",
              "      <td>106804370</td>\n",
              "      <td>1</td>\n",
              "      <td>1</td>\n",
              "    </tr>\n",
              "    <tr>\n",
              "      <th>1</th>\n",
              "      <td>106804371</td>\n",
              "      <td>1</td>\n",
              "      <td>1</td>\n",
              "    </tr>\n",
              "    <tr>\n",
              "      <th>2</th>\n",
              "      <td>106804372</td>\n",
              "      <td>2</td>\n",
              "      <td>1</td>\n",
              "    </tr>\n",
              "    <tr>\n",
              "      <th>3</th>\n",
              "      <td>106804373</td>\n",
              "      <td>1</td>\n",
              "      <td>1</td>\n",
              "    </tr>\n",
              "    <tr>\n",
              "      <th>4</th>\n",
              "      <td>106804374</td>\n",
              "      <td>2</td>\n",
              "      <td>1</td>\n",
              "    </tr>\n",
              "  </tbody>\n",
              "</table>\n",
              "</div>"
            ],
            "text/plain": [
              "   ID_CLIENT  LOAN_NUM_TOTAL  LOAN_NUM_CLOSED\n",
              "0  106804370               1                1\n",
              "1  106804371               1                1\n",
              "2  106804372               2                1\n",
              "3  106804373               1                1\n",
              "4  106804374               2                1"
            ]
          },
          "execution_count": 41,
          "metadata": {},
          "output_type": "execute_result"
        }
      ],
      "source": [
        "d_loan.head(5)"
      ]
    },
    {
      "cell_type": "code",
      "execution_count": 42,
      "metadata": {},
      "outputs": [
        {
          "name": "stdout",
          "output_type": "stream",
          "text": [
            "<class 'pandas.core.frame.DataFrame'>\n",
            "RangeIndex: 15223 entries, 0 to 15222\n",
            "Data columns (total 3 columns):\n",
            " #   Column           Non-Null Count  Dtype\n",
            "---  ------           --------------  -----\n",
            " 0   ID_CLIENT        15223 non-null  int64\n",
            " 1   LOAN_NUM_TOTAL   15223 non-null  int64\n",
            " 2   LOAN_NUM_CLOSED  15223 non-null  int64\n",
            "dtypes: int64(3)\n",
            "memory usage: 356.9 KB\n"
          ]
        }
      ],
      "source": [
        "d_loan.info()"
      ]
    },
    {
      "cell_type": "markdown",
      "metadata": {},
      "source": [
        "Начинаем понемногу собирать таблицу. Проверим target."
      ]
    },
    {
      "cell_type": "code",
      "execution_count": 43,
      "metadata": {},
      "outputs": [
        {
          "data": {
            "text/html": [
              "<div>\n",
              "<style scoped>\n",
              "    .dataframe tbody tr th:only-of-type {\n",
              "        vertical-align: middle;\n",
              "    }\n",
              "\n",
              "    .dataframe tbody tr th {\n",
              "        vertical-align: top;\n",
              "    }\n",
              "\n",
              "    .dataframe thead th {\n",
              "        text-align: right;\n",
              "    }\n",
              "</style>\n",
              "<table border=\"1\" class=\"dataframe\">\n",
              "  <thead>\n",
              "    <tr style=\"text-align: right;\">\n",
              "      <th></th>\n",
              "      <th>AGREEMENT_RK</th>\n",
              "      <th>ID_CLIENT</th>\n",
              "      <th>TARGET</th>\n",
              "    </tr>\n",
              "  </thead>\n",
              "  <tbody>\n",
              "    <tr>\n",
              "      <th>0</th>\n",
              "      <td>59910150</td>\n",
              "      <td>106804370</td>\n",
              "      <td>0</td>\n",
              "    </tr>\n",
              "    <tr>\n",
              "      <th>1</th>\n",
              "      <td>59910230</td>\n",
              "      <td>106804371</td>\n",
              "      <td>0</td>\n",
              "    </tr>\n",
              "    <tr>\n",
              "      <th>2</th>\n",
              "      <td>59910525</td>\n",
              "      <td>106804372</td>\n",
              "      <td>0</td>\n",
              "    </tr>\n",
              "    <tr>\n",
              "      <th>3</th>\n",
              "      <td>59910803</td>\n",
              "      <td>106804373</td>\n",
              "      <td>0</td>\n",
              "    </tr>\n",
              "    <tr>\n",
              "      <th>4</th>\n",
              "      <td>59911781</td>\n",
              "      <td>106804374</td>\n",
              "      <td>0</td>\n",
              "    </tr>\n",
              "  </tbody>\n",
              "</table>\n",
              "</div>"
            ],
            "text/plain": [
              "   AGREEMENT_RK  ID_CLIENT  TARGET\n",
              "0      59910150  106804370       0\n",
              "1      59910230  106804371       0\n",
              "2      59910525  106804372       0\n",
              "3      59910803  106804373       0\n",
              "4      59911781  106804374       0"
            ]
          },
          "execution_count": 43,
          "metadata": {},
          "output_type": "execute_result"
        }
      ],
      "source": [
        "d_target.head()"
      ]
    },
    {
      "cell_type": "code",
      "execution_count": 44,
      "metadata": {},
      "outputs": [
        {
          "data": {
            "text/plain": [
              "0"
            ]
          },
          "execution_count": 44,
          "metadata": {},
          "output_type": "execute_result"
        }
      ],
      "source": [
        "d_target.ID_CLIENT.duplicated().sum()"
      ]
    },
    {
      "cell_type": "code",
      "execution_count": 45,
      "metadata": {},
      "outputs": [
        {
          "name": "stdout",
          "output_type": "stream",
          "text": [
            "<class 'pandas.core.frame.DataFrame'>\n",
            "RangeIndex: 15223 entries, 0 to 15222\n",
            "Data columns (total 3 columns):\n",
            " #   Column        Non-Null Count  Dtype\n",
            "---  ------        --------------  -----\n",
            " 0   AGREEMENT_RK  15223 non-null  int64\n",
            " 1   ID_CLIENT     15223 non-null  int64\n",
            " 2   TARGET        15223 non-null  int64\n",
            "dtypes: int64(3)\n",
            "memory usage: 356.9 KB\n"
          ]
        }
      ],
      "source": [
        "d_target.info()"
      ]
    },
    {
      "cell_type": "markdown",
      "metadata": {},
      "source": [
        "Меньше, чем данных в таблице клиентов. Начинаем собирать dataframe воедино."
      ]
    },
    {
      "cell_type": "code",
      "execution_count": 46,
      "metadata": {},
      "outputs": [
        {
          "name": "stdout",
          "output_type": "stream",
          "text": [
            "<class 'pandas.core.frame.DataFrame'>\n",
            "RangeIndex: 16300 entries, 0 to 16299\n",
            "Data columns (total 27 columns):\n",
            " #   Column                   Non-Null Count  Dtype  \n",
            "---  ------                   --------------  -----  \n",
            " 0   ID_CLIENT                16300 non-null  int64  \n",
            " 1   AGE                      16300 non-null  int64  \n",
            " 2   GENDER                   16300 non-null  int64  \n",
            " 3   EDUCATION                16300 non-null  object \n",
            " 4   MARITAL_STATUS           16300 non-null  object \n",
            " 5   CHILD_TOTAL              16300 non-null  int64  \n",
            " 6   DEPENDANTS               16300 non-null  int64  \n",
            " 7   SOCSTATUS_WORK_FL        16300 non-null  int64  \n",
            " 8   SOCSTATUS_PENS_FL        16300 non-null  int64  \n",
            " 9   REG_ADDRESS_PROVINCE     16300 non-null  object \n",
            " 10  FACT_ADDRESS_PROVINCE    16300 non-null  object \n",
            " 11  POSTAL_ADDRESS_PROVINCE  16300 non-null  object \n",
            " 12  FL_PRESENCE_FL           16300 non-null  int64  \n",
            " 13  OWN_AUTO                 16300 non-null  int64  \n",
            " 14  AGREEMENT_RK             15523 non-null  float64\n",
            " 15  TARGET                   15523 non-null  float64\n",
            " 16  GEN_INDUSTRY             14126 non-null  object \n",
            " 17  GEN_TITLE                14126 non-null  object \n",
            " 18  JOB_DIR                  14126 non-null  object \n",
            " 19  WORK_TIME                14125 non-null  float64\n",
            " 20  CREDIT                   15523 non-null  float64\n",
            " 21  TERM                     15523 non-null  float64\n",
            " 22  FST_PAYMENT              15523 non-null  float64\n",
            " 23  LOAN_NUM_TOTAL           15523 non-null  float64\n",
            " 24  LOAN_NUM_CLOSED          15523 non-null  float64\n",
            " 25  FAMILY_INCOME            15523 non-null  object \n",
            " 26  PERSONAL_INCOME          15523 non-null  float64\n",
            "dtypes: float64(9), int64(9), object(9)\n",
            "memory usage: 3.4+ MB\n"
          ]
        }
      ],
      "source": [
        "d_clients = d_clients.rename(columns={'ID':'ID_CLIENT'})\n",
        "df = d_clients.merge(d_target, 'outer', 'ID_CLIENT')\n",
        "df = df.merge(d_job, 'outer', 'ID_CLIENT')\n",
        "df = df.merge(d_last_credit, 'outer', 'ID_CLIENT')\n",
        "df = df.merge(d_loan[['LOAN_NUM_TOTAL', 'LOAN_NUM_CLOSED', 'ID_CLIENT']], 'outer', 'ID_CLIENT')\n",
        "df = df.merge(d_salary, 'outer', 'ID_CLIENT')\n",
        "df.info()"
      ]
    },
    {
      "cell_type": "markdown",
      "metadata": {},
      "source": [
        "Чистим дату."
      ]
    },
    {
      "cell_type": "code",
      "execution_count": 47,
      "metadata": {},
      "outputs": [
        {
          "name": "stdout",
          "output_type": "stream",
          "text": [
            "<class 'pandas.core.frame.DataFrame'>\n",
            "RangeIndex: 16000 entries, 0 to 15999\n",
            "Data columns (total 27 columns):\n",
            " #   Column                   Non-Null Count  Dtype  \n",
            "---  ------                   --------------  -----  \n",
            " 0   ID_CLIENT                16000 non-null  int64  \n",
            " 1   AGE                      16000 non-null  int64  \n",
            " 2   GENDER                   16000 non-null  int64  \n",
            " 3   EDUCATION                16000 non-null  object \n",
            " 4   MARITAL_STATUS           16000 non-null  object \n",
            " 5   CHILD_TOTAL              16000 non-null  int64  \n",
            " 6   DEPENDANTS               16000 non-null  int64  \n",
            " 7   SOCSTATUS_WORK_FL        16000 non-null  int64  \n",
            " 8   SOCSTATUS_PENS_FL        16000 non-null  int64  \n",
            " 9   REG_ADDRESS_PROVINCE     16000 non-null  object \n",
            " 10  FACT_ADDRESS_PROVINCE    16000 non-null  object \n",
            " 11  POSTAL_ADDRESS_PROVINCE  16000 non-null  object \n",
            " 12  FL_PRESENCE_FL           16000 non-null  int64  \n",
            " 13  OWN_AUTO                 16000 non-null  int64  \n",
            " 14  AGREEMENT_RK             15223 non-null  float64\n",
            " 15  TARGET                   15223 non-null  float64\n",
            " 16  GEN_INDUSTRY             13856 non-null  object \n",
            " 17  GEN_TITLE                13856 non-null  object \n",
            " 18  JOB_DIR                  13856 non-null  object \n",
            " 19  WORK_TIME                13855 non-null  float64\n",
            " 20  CREDIT                   15223 non-null  float64\n",
            " 21  TERM                     15223 non-null  float64\n",
            " 22  FST_PAYMENT              15223 non-null  float64\n",
            " 23  LOAN_NUM_TOTAL           15223 non-null  float64\n",
            " 24  LOAN_NUM_CLOSED          15223 non-null  float64\n",
            " 25  FAMILY_INCOME            15223 non-null  object \n",
            " 26  PERSONAL_INCOME          15223 non-null  float64\n",
            "dtypes: float64(9), int64(9), object(9)\n",
            "memory usage: 3.3+ MB\n"
          ]
        }
      ],
      "source": [
        "df = df.drop_duplicates(keep='first').reset_index(drop=True)\n",
        "df.info()"
      ]
    },
    {
      "cell_type": "code",
      "execution_count": 48,
      "metadata": {},
      "outputs": [
        {
          "data": {
            "text/html": [
              "<div>\n",
              "<style scoped>\n",
              "    .dataframe tbody tr th:only-of-type {\n",
              "        vertical-align: middle;\n",
              "    }\n",
              "\n",
              "    .dataframe tbody tr th {\n",
              "        vertical-align: top;\n",
              "    }\n",
              "\n",
              "    .dataframe thead th {\n",
              "        text-align: right;\n",
              "    }\n",
              "</style>\n",
              "<table border=\"1\" class=\"dataframe\">\n",
              "  <thead>\n",
              "    <tr style=\"text-align: right;\">\n",
              "      <th></th>\n",
              "      <th>ID_CLIENT</th>\n",
              "      <th>AGE</th>\n",
              "      <th>GENDER</th>\n",
              "      <th>EDUCATION</th>\n",
              "      <th>MARITAL_STATUS</th>\n",
              "      <th>CHILD_TOTAL</th>\n",
              "      <th>DEPENDANTS</th>\n",
              "      <th>SOCSTATUS_WORK_FL</th>\n",
              "      <th>SOCSTATUS_PENS_FL</th>\n",
              "      <th>REG_ADDRESS_PROVINCE</th>\n",
              "      <th>...</th>\n",
              "      <th>GEN_TITLE</th>\n",
              "      <th>JOB_DIR</th>\n",
              "      <th>WORK_TIME</th>\n",
              "      <th>CREDIT</th>\n",
              "      <th>TERM</th>\n",
              "      <th>FST_PAYMENT</th>\n",
              "      <th>LOAN_NUM_TOTAL</th>\n",
              "      <th>LOAN_NUM_CLOSED</th>\n",
              "      <th>FAMILY_INCOME</th>\n",
              "      <th>PERSONAL_INCOME</th>\n",
              "    </tr>\n",
              "  </thead>\n",
              "  <tbody>\n",
              "    <tr>\n",
              "      <th>15590</th>\n",
              "      <td>106806572</td>\n",
              "      <td>51</td>\n",
              "      <td>1</td>\n",
              "      <td>Среднее специальное</td>\n",
              "      <td>Состою в браке</td>\n",
              "      <td>2</td>\n",
              "      <td>0</td>\n",
              "      <td>1</td>\n",
              "      <td>0</td>\n",
              "      <td>Тюменская область</td>\n",
              "      <td>...</td>\n",
              "      <td>Служащий</td>\n",
              "      <td>Пр-техн. обесп. и телеком.</td>\n",
              "      <td>150.0</td>\n",
              "      <td>10910.0</td>\n",
              "      <td>6.0</td>\n",
              "      <td>2000.0</td>\n",
              "      <td>1.0</td>\n",
              "      <td>0.0</td>\n",
              "      <td>от 20000 до 50000 руб.</td>\n",
              "      <td>8700.0</td>\n",
              "    </tr>\n",
              "  </tbody>\n",
              "</table>\n",
              "<p>1 rows × 27 columns</p>\n",
              "</div>"
            ],
            "text/plain": [
              "       ID_CLIENT  AGE  GENDER            EDUCATION  MARITAL_STATUS  \\\n",
              "15590  106806572   51       1  Среднее специальное  Состою в браке   \n",
              "\n",
              "       CHILD_TOTAL  DEPENDANTS  SOCSTATUS_WORK_FL  SOCSTATUS_PENS_FL  \\\n",
              "15590            2           0                  1                  0   \n",
              "\n",
              "      REG_ADDRESS_PROVINCE  ... GEN_TITLE                     JOB_DIR  \\\n",
              "15590    Тюменская область  ...  Служащий  Пр-техн. обесп. и телеком.   \n",
              "\n",
              "       WORK_TIME   CREDIT  TERM  FST_PAYMENT LOAN_NUM_TOTAL LOAN_NUM_CLOSED  \\\n",
              "15590      150.0  10910.0   6.0       2000.0            1.0             0.0   \n",
              "\n",
              "                FAMILY_INCOME  PERSONAL_INCOME  \n",
              "15590  от 20000 до 50000 руб.           8700.0  \n",
              "\n",
              "[1 rows x 27 columns]"
            ]
          },
          "execution_count": 48,
          "metadata": {},
          "output_type": "execute_result"
        }
      ],
      "source": [
        "df.sample(1)"
      ]
    },
    {
      "cell_type": "code",
      "execution_count": 49,
      "metadata": {},
      "outputs": [
        {
          "name": "stdout",
          "output_type": "stream",
          "text": [
            "<class 'pandas.core.frame.DataFrame'>\n",
            "RangeIndex: 16000 entries, 0 to 15999\n",
            "Data columns (total 27 columns):\n",
            " #   Column                   Non-Null Count  Dtype  \n",
            "---  ------                   --------------  -----  \n",
            " 0   ID_CLIENT                16000 non-null  int64  \n",
            " 1   AGE                      16000 non-null  int64  \n",
            " 2   GENDER                   16000 non-null  int64  \n",
            " 3   EDUCATION                16000 non-null  object \n",
            " 4   MARITAL_STATUS           16000 non-null  object \n",
            " 5   CHILD_TOTAL              16000 non-null  int64  \n",
            " 6   DEPENDANTS               16000 non-null  int64  \n",
            " 7   SOCSTATUS_WORK_FL        16000 non-null  int64  \n",
            " 8   SOCSTATUS_PENS_FL        16000 non-null  int64  \n",
            " 9   REG_ADDRESS_PROVINCE     16000 non-null  object \n",
            " 10  FACT_ADDRESS_PROVINCE    16000 non-null  object \n",
            " 11  POSTAL_ADDRESS_PROVINCE  16000 non-null  object \n",
            " 12  FL_PRESENCE_FL           16000 non-null  int64  \n",
            " 13  OWN_AUTO                 16000 non-null  int64  \n",
            " 14  AGREEMENT_RK             15223 non-null  float64\n",
            " 15  TARGET                   15223 non-null  float64\n",
            " 16  GEN_INDUSTRY             13856 non-null  object \n",
            " 17  GEN_TITLE                13856 non-null  object \n",
            " 18  JOB_DIR                  13856 non-null  object \n",
            " 19  WORK_TIME                13855 non-null  float64\n",
            " 20  CREDIT                   15223 non-null  float64\n",
            " 21  TERM                     15223 non-null  float64\n",
            " 22  FST_PAYMENT              15223 non-null  float64\n",
            " 23  LOAN_NUM_TOTAL           15223 non-null  float64\n",
            " 24  LOAN_NUM_CLOSED          15223 non-null  float64\n",
            " 25  FAMILY_INCOME            15223 non-null  object \n",
            " 26  PERSONAL_INCOME          15223 non-null  float64\n",
            "dtypes: float64(9), int64(9), object(9)\n",
            "memory usage: 3.3+ MB\n"
          ]
        }
      ],
      "source": [
        "df.info()"
      ]
    },
    {
      "cell_type": "markdown",
      "metadata": {},
      "source": [
        "Отличный набор данных!.. который нам для конкретного задания не нужен. Безжалостно дропаем избыточные столбцы и проверяем, как дела у оставшихся."
      ]
    },
    {
      "cell_type": "code",
      "execution_count": 50,
      "metadata": {},
      "outputs": [],
      "source": [
        "needed_ones = ['AGREEMENT_RK', 'TARGET', 'AGE', 'SOCSTATUS_WORK_FL', 'SOCSTATUS_PENS_FL',\\\n",
        "    'GENDER', 'CHILD_TOTAL', 'DEPENDANTS', 'PERSONAL_INCOME', 'LOAN_NUM_TOTAL',\\\n",
        "        'LOAN_NUM_CLOSED']"
      ]
    },
    {
      "cell_type": "code",
      "execution_count": 51,
      "metadata": {},
      "outputs": [],
      "source": [
        "df = df[needed_ones]\n",
        "df = df.drop_duplicates(keep='first')"
      ]
    },
    {
      "cell_type": "code",
      "execution_count": 52,
      "metadata": {},
      "outputs": [
        {
          "name": "stdout",
          "output_type": "stream",
          "text": [
            "<class 'pandas.core.frame.DataFrame'>\n",
            "Index: 15223 entries, 0 to 15999\n",
            "Data columns (total 11 columns):\n",
            " #   Column             Non-Null Count  Dtype\n",
            "---  ------             --------------  -----\n",
            " 0   AGREEMENT_RK       15223 non-null  int64\n",
            " 1   TARGET             15223 non-null  int64\n",
            " 2   AGE                15223 non-null  int64\n",
            " 3   SOCSTATUS_WORK_FL  15223 non-null  int64\n",
            " 4   SOCSTATUS_PENS_FL  15223 non-null  int64\n",
            " 5   GENDER             15223 non-null  int64\n",
            " 6   CHILD_TOTAL        15223 non-null  int64\n",
            " 7   DEPENDANTS         15223 non-null  int64\n",
            " 8   PERSONAL_INCOME    15223 non-null  int64\n",
            " 9   LOAN_NUM_TOTAL     15223 non-null  int64\n",
            " 10  LOAN_NUM_CLOSED    15223 non-null  int64\n",
            "dtypes: int64(11)\n",
            "memory usage: 1.4 MB\n"
          ]
        }
      ],
      "source": [
        "df = df.loc[df['TARGET'].notna()]\n",
        "df[needed_ones] = df[needed_ones].astype('int64')\n",
        "df.info()"
      ]
    },
    {
      "cell_type": "markdown",
      "metadata": {},
      "source": [
        "Впоследствие можно будет сюда вернуться и сделать все по красоте с моделью и всеми сопутствующими - но дедлайн уже просрочен... "
      ]
    },
    {
      "cell_type": "code",
      "execution_count": 53,
      "metadata": {},
      "outputs": [
        {
          "data": {
            "text/plain": [
              "(15223, 11)"
            ]
          },
          "execution_count": 53,
          "metadata": {},
          "output_type": "execute_result"
        }
      ],
      "source": [
        "df.shape"
      ]
    },
    {
      "cell_type": "code",
      "execution_count": 54,
      "metadata": {},
      "outputs": [],
      "source": [
        "df.to_csv(\"clients.csv\", sep=\";\")"
      ]
    }
  ],
  "metadata": {
    "colab": {
      "provenance": []
    },
    "kernelspec": {
      "display_name": "Python 3",
      "name": "python3"
    },
    "language_info": {
      "codemirror_mode": {
        "name": "ipython",
        "version": 3
      },
      "file_extension": ".py",
      "mimetype": "text/x-python",
      "name": "python",
      "nbconvert_exporter": "python",
      "pygments_lexer": "ipython3",
      "version": "3.11.7"
    }
  },
  "nbformat": 4,
  "nbformat_minor": 0
}
